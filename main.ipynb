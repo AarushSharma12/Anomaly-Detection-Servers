{
 "cells": [
  {
   "cell_type": "markdown",
   "id": "90d136d7",
   "metadata": {},
   "source": [
    "# Anomaly Detection\n",
    "\n",
    "In this project, we will implement the anomaly detection algorithm and apply it to detect failing servers on a network. \n"
   ]
  },
  {
   "cell_type": "markdown",
   "id": "57631ffb",
   "metadata": {},
   "source": [
    "## 1 - Packages \n",
    "\n",
    "First, let's run the cell below to import all the packages that we will need during this project.\n",
    "- [numpy](www.numpy.org) is the fundamental package for working with matrices in Python.\n",
    "- [matplotlib](http://matplotlib.org) is a famous library to plot graphs in Python.\n",
    "- ``utils.py`` contains helper functions for this assignment.\n"
   ]
  },
  {
   "cell_type": "code",
   "execution_count": 1,
   "id": "9b9e37a1",
   "metadata": {},
   "outputs": [],
   "source": [
    "import numpy as np\n",
    "import matplotlib.pyplot as plt\n",
    "from utils import *\n",
    "\n",
    "%matplotlib inline"
   ]
  },
  {
   "cell_type": "markdown",
   "id": "8764c101",
   "metadata": {},
   "source": [
    "## 2 - Anomaly detection\n",
    "\n",
    "### 2.1 Problem Statement\n",
    "\n",
    "In this project, we will implement an anomaly detection algorithm to\n",
    "detect anomalous behavior in server computers."
   ]
  },
  {
   "cell_type": "markdown",
   "metadata": {},
   "source": [
    "### 2.2 Gaussian distribution\n",
    "\n",
    "To perform anomaly detection, we will first need to fit a model to the data’s distribution.\n",
    "\n",
    "* Given a training set $\\{x^{(1)}, ..., x^{(m)}\\}$ we want to estimate the Gaussian distribution for each\n",
    "of the features $x_i$. \n",
    "\n",
    "* The Gaussian distribution is given by\n",
    "\n",
    "   $$ p(x ; \\mu,\\sigma ^2) = \\frac{1}{\\sqrt{2 \\pi \\sigma ^2}}\\exp^{ - \\frac{(x - \\mu)^2}{2 \\sigma ^2} }$$\n",
    "\n",
    "   where $\\mu$ is the mean and $\\sigma^2$ is the variance.\n",
    "   \n",
    "* For each feature $i = 1\\ldots n$, we need to find parameters $\\mu_i$ and $\\sigma_i^2$ that fit the data in the $i$-th dimension $\\{x_i^{(1)}, ..., x_i^{(m)}\\}$ (the $i$-th dimension of each example).\n",
    "\n",
    "### 2.2.1 Estimating parameters for a Gaussian distribution"
   ]
  },
  {
   "cell_type": "markdown",
   "metadata": {},
   "source": [
    "Here we will complete the `estimate_gaussian` function below to calculate `mu` (mean for each feature in `X`) and `var` (variance for each feature in `X`). \n",
    "\n",
    "We will estimate the parameters, ($\\mu_i$, $\\sigma_i^2$), of the $i$-th\n",
    "feature by using the following equations. To estimate the mean, we will\n",
    "use:\n",
    "\n",
    "$$\\mu_i = \\frac{1}{m} \\sum_{j=1}^m x_i^{(j)}$$\n",
    "\n",
    "and for the variance we will use:\n",
    "$$\\sigma_i^2 = \\frac{1}{m} \\sum_{j=1}^m (x_i^{(j)} - \\mu_i)^2$$"
   ]
  },
  {
   "cell_type": "code",
   "execution_count": 2,
   "metadata": {
    "deletable": false
   },
   "outputs": [],
   "source": [
    "def estimate_gaussian(X): \n",
    "    \"\"\"\n",
    "    Calculates mean and variance of all features \n",
    "    in the dataset\n",
    "    \n",
    "    Args:\n",
    "        X (ndarray): (m, n) Data matrix\n",
    "    \n",
    "    Returns:\n",
    "        mu (ndarray): (n,) Mean of all features\n",
    "        var (ndarray): (n,) Variance of all features\n",
    "    \"\"\"\n",
    "\n",
    "    m, n = X.shape\n",
    "    \n",
    "    mu = np.sum(X, axis = 0) / m\n",
    "    var = np.sum((X - mu) ** 2, axis = 0) / m\n",
    "        \n",
    "    return mu, var"
   ]
  },
  {
   "cell_type": "markdown",
   "metadata": {},
   "source": [
    "### 2.2.2 Selecting the threshold $\\epsilon$\n",
    "\n",
    "Now that we have estimated the Gaussian parameters, we can investigate which examples have a very high probability given this distribution and which examples have a very low probability.  \n",
    "\n",
    "* The low probability examples are more likely to be the anomalies in our dataset. \n",
    "* One way to determine which examples are anomalies is to select a threshold based on a cross validation set. \n",
    "\n",
    "In this section, we will write the code in `select_threshold` to select the threshold $\\varepsilon$ using the $F_1$ score on a cross validation set.\n",
    "\n",
    "* For this, we will use a cross validation set\n",
    "$\\{(x_{\\rm cv}^{(1)}, y_{\\rm cv}^{(1)}),\\ldots, (x_{\\rm cv}^{(m_{\\rm cv})}, y_{\\rm cv}^{(m_{\\rm cv})})\\}$, where the label $y=1$ corresponds to an anomalous example, and $y=0$ corresponds to a normal example. \n",
    "* For each cross validation example, we will compute $p(x_{\\rm cv}^{(i)})$. The vector of all of these probabilities $p(x_{\\rm cv}^{(1)}), \\ldots, p(x_{\\rm cv}^{(m_{\\rm cv})})$ is passed to `select_threshold` in the vector `p_val`. \n",
    "* The corresponding labels $y_{\\rm cv}^{(1)}, \\ldots, y_{\\rm cv}^{(m_{\\rm cv})}$ are passed to the same function in the vector `y_val`."
   ]
  },
  {
   "cell_type": "markdown",
   "id": "b149ed31",
   "metadata": {},
   "source": [
    "Here we will develop the `select_threshold` function below to find the best threshold to use for selecting outliers based on the results from the validation set (`p_val`) and the ground truth (`y_val`). \n",
    "\n",
    "* There is already a loop that will try many different values of $\\varepsilon$ and select the best $\\varepsilon$ based on the $F_1$ score. \n",
    "\n",
    "* We will implement code to calculate the F1 score from choosing `epsilon` as the threshold and place the value in `F1`. \n",
    "\n",
    "  * If an example $x$ has a low probability $p(x) < \\varepsilon$, then it is classified as an anomaly. \n",
    "        \n",
    "  * Then, we can compute precision and recall by: \n",
    "\\begin{aligned}\n",
    "\\text{precision} &= \\frac{tp}{tp+fp} \\\\\n",
    "\\text{recall} &= \\frac{tp}{tp+fn},\n",
    "\\end{aligned} \n",
    "where\n",
    "    * $tp$ is the number of true positives: the ground truth label says it’s an anomaly and our algorithm correctly classified it as an anomaly.\n",
    "    * $fp$ is the number of false positives: the ground truth label says it’s not an anomaly, but our algorithm incorrectly classified it as an anomaly.\n",
    "    * $fn$ is the number of false negatives: the ground truth label says it’s an anomaly, but our algorithm incorrectly classified it as not being anomalous.\n",
    "\n",
    "  * The $F_1$ score is computed using precision ($prec$) and recall ($rec$) as follows:\n",
    "    $$F_1 = \\frac{2\\cdot prec \\cdot rec}{prec + rec}$$ "
   ]
  },
  {
   "cell_type": "code",
   "execution_count": 3,
   "metadata": {
    "deletable": false
   },
   "outputs": [],
   "source": [
    "def select_threshold(y_val, p_val): \n",
    "    \"\"\"\n",
    "    Finds the best threshold to use for selecting outliers \n",
    "    based on the results from a validation set (p_val) \n",
    "    and the ground truth (y_val)\n",
    "    \n",
    "    Args:\n",
    "        y_val (ndarray): Ground truth on validation set\n",
    "        p_val (ndarray): Results on validation set\n",
    "        \n",
    "    Returns:\n",
    "        epsilon (float): Threshold chosen \n",
    "        F1 (float):      F1 score by choosing epsilon as threshold\n",
    "    \"\"\" \n",
    "    best_epsilon = 0\n",
    "    best_F1 = 0\n",
    "    F1 = 0\n",
    "    \n",
    "    step_size = (max(p_val) - min(p_val)) / 1000\n",
    "    epsilon = 0.0001  # Small constant to prevent division by zero\n",
    "    \n",
    "    for epsilon in np.arange(min(p_val), max(p_val), step_size):\n",
    "    \n",
    "\n",
    "        \n",
    "        predictions = (p_val < epsilon)\n",
    "        \n",
    "        \n",
    "        # True Positives (tp): Predicted 1, Actual 1\n",
    "        tp = np.sum((predictions == 1) & (y_val == 1))\n",
    "\n",
    "        # True Negatives (tn): Predicted 0, Actual 0\n",
    "        tn = np.sum((predictions == 0) & (y_val == 0))\n",
    "\n",
    "        # False Positives (fp): Predicted 1, Actual 0\n",
    "        fp = np.sum((predictions == 1) & (y_val == 0))\n",
    "\n",
    "        # False Negatives (fn): Predicted 0, Actual 1\n",
    "        fn = np.sum((predictions == 0) & (y_val == 1))\n",
    "        \n",
    "\n",
    "        # Check for zero denominator before calculating precision\n",
    "        if (tp + fp) > 0:\n",
    "            prec = tp / (tp + fp)\n",
    "        else:\n",
    "            prec = 0  # Precision is undefined when there are no predicted positives, handle accordingly\n",
    "\n",
    "        # Check for zero denominator before calculating recall\n",
    "        if (tp + fn) > 0:\n",
    "            rec = tp / (tp + fn)\n",
    "        else:\n",
    "            rec = 0  # Recall is undefined when there are no true positives, handle accordingly\n",
    "\n",
    "        # Calculate F1 score only if both precision and recall are defined\n",
    "        if (prec + rec) > 0:\n",
    "            F1 = 2 * prec * rec / (prec + rec)\n",
    "        else:\n",
    "            F1 = 0  # F1 is undefined if both precision and recall are zero\n",
    "        \n",
    "        if F1 > best_F1:\n",
    "            best_F1 = F1\n",
    "            best_epsilon = epsilon\n",
    "        \n",
    "    return best_epsilon, best_F1"
   ]
  },
  {
   "cell_type": "markdown",
   "metadata": {},
   "source": [
    "### 2.3 High dimensional dataset\n",
    "\n",
    "Now,  we will run the anomaly detection algorithm that we implemented on a realistic dataset.\n",
    "\n",
    "In this dataset, each example is described by 11 features, capturing many properties of compute servers.\n",
    "\n",
    "Let's start by loading the dataset.\n",
    "\n",
    "- The `load_data()` function shown below loads the data into variables `X_train`, `X_val` and `y_val`\n",
    "    - We will use `X_train` to fit Gaussian distribution \n",
    "    - We will use `X_val` and `y_val` as a cross validation set to select a threshold and determine anomalous vs normal examples"
   ]
  },
  {
   "cell_type": "code",
   "execution_count": 4,
   "metadata": {
    "deletable": false,
    "editable": false
   },
   "outputs": [],
   "source": [
    "# load the dataset\n",
    "X_train, X_val, y_val = load_data_multi()"
   ]
  },
  {
   "cell_type": "markdown",
   "metadata": {},
   "source": [
    "#### Check the dimensions of your variables\n",
    "\n",
    "Let's check the dimensions of these new variables to become familiar with the data"
   ]
  },
  {
   "cell_type": "code",
   "execution_count": 5,
   "metadata": {
    "deletable": false,
    "editable": false
   },
   "outputs": [
    {
     "name": "stdout",
     "output_type": "stream",
     "text": [
      "The shape of X_train is: (1000, 11)\n",
      "The shape of X_val is: (100, 11)\n",
      "The shape of y_val is:  (100,)\n"
     ]
    }
   ],
   "source": [
    "print ('The shape of X_train is:', X_train.shape)\n",
    "print ('The shape of X_val is:', X_val.shape)\n",
    "print ('The shape of y_val is: ', y_val.shape)"
   ]
  },
  {
   "cell_type": "markdown",
   "metadata": {},
   "source": [
    "#### Anomaly detection \n",
    "\n",
    "Now, let's run the anomaly detection algorithm on this dataset.\n",
    "\n",
    "The code below will use our code to \n",
    "* Estimate the Gaussian parameters ($\\mu_i$ and $\\sigma_i^2$)\n",
    "* Evaluate the probabilities for both the training data `X_train` from which we estimated the Gaussian parameters, as well as for the the cross-validation set `X_val`. \n",
    "* Finally, it will use `select_threshold` to find the best threshold $\\varepsilon$. "
   ]
  },
  {
   "cell_type": "code",
   "execution_count": 6,
   "metadata": {
    "deletable": false,
    "editable": false
   },
   "outputs": [
    {
     "name": "stdout",
     "output_type": "stream",
     "text": [
      "Best epsilon found using cross-validation: 1.377229e-18\n",
      "Best F1 on Cross Validation Set:  0.615385\n",
      "# Anomalies found: 117\n"
     ]
    }
   ],
   "source": [
    "# Apply the steps\n",
    "\n",
    "# Estimate the Gaussian parameters\n",
    "mu, var = estimate_gaussian(X_train)\n",
    "\n",
    "# Evaluate the probabilites for the training set\n",
    "p = multivariate_gaussian(X_train, mu, var)\n",
    "\n",
    "# Evaluate the probabilites for the cross validation set\n",
    "p_val = multivariate_gaussian(X_val, mu, var)\n",
    "\n",
    "# Find the best threshold\n",
    "epsilon, F1 = select_threshold(y_val, p_val)\n",
    "\n",
    "print('Best epsilon found using cross-validation: %e'% epsilon)\n",
    "print('Best F1 on Cross Validation Set:  %f'% F1)\n",
    "print('# Anomalies found: %d'% sum(p < epsilon))"
   ]
  },
  {
   "cell_type": "markdown",
   "metadata": {},
   "source": [
    "<table>\n",
    "  <tr>\n",
    "    <td> <b>Best epsilon found using cross-validation: <b>  </td> \n",
    "    <td> 1.38e-18</td> \n",
    "   </tr>    \n",
    "   <tr>\n",
    "    <td> <b>Best F1 on Cross Validation Set: <b>  </td>\n",
    "     <td> 0.615385 </td> \n",
    "  </tr>\n",
    "    <tr>\n",
    "    <td> <b># anomalies found: <b>  </td>\n",
    "     <td>  117 </td> \n",
    "  </tr>\n",
    "</table>"
   ]
  },
  {
   "cell_type": "markdown",
   "id": "79ec903e",
   "metadata": {},
   "source": [
    "### PCA-Based Visualization of Anomaly Detection Results"
   ]
  },
  {
   "cell_type": "code",
   "execution_count": 7,
   "id": "e9a4cd21",
   "metadata": {},
   "outputs": [
    {
     "data": {
      "image/png": "[encoded data removed]",
      "text/plain": [
       "<Figure size 1000x600 with 1 Axes>"
      ]
     },
     "metadata": {},
     "output_type": "display_data"
    }
   ],
   "source": [
    "from sklearn.decomposition import PCA\n",
    "\n",
    "# Perform PCA on the validation set (X_val) to reduce the 11-dimensional data to 2 dimensions.\n",
    "# PCA helps visualize the high-dimensional data by projecting it into a 2D space.\n",
    "pca = PCA(n_components=2)\n",
    "X_val_pca = pca.fit_transform(X_val)\n",
    "\n",
    "# Identify anomalies by checking where p_val (the predicted probabilities from the model)\n",
    "# is less than the epsilon (the determined threshold for anomaly detection).\n",
    "anomalies = X_val_pca[p_val < epsilon]\n",
    "\n",
    "# Identify normal data points by checking where p_val is greater than or equal to epsilon.\n",
    "normal_data = X_val_pca[p_val >= epsilon]\n",
    "\n",
    "# Plot the PCA-reduced data\n",
    "plt.figure(figsize=(10, 6))\n",
    "\n",
    "# Plot the normal data points in blue\n",
    "plt.scatter(normal_data[:, 0], normal_data[:, 1], label=\"Normal Data\", alpha=0.6, c='b')\n",
    "\n",
    "# Plot the detected anomalies in red with 'x' markers\n",
    "plt.scatter(anomalies[:, 0], anomalies[:, 1], label=\"Anomalies\", alpha=0.8, c='r', marker='x')\n",
    "\n",
    "# Add title and labels for clarity\n",
    "plt.title(\"PCA of 11 Features with Anomaly Detection (Validation Set)\")\n",
    "plt.xlabel(\"Principal Component 1\")\n",
    "plt.ylabel(\"Principal Component 2\")\n",
    "\n",
    "# Add a legend to distinguish between normal data and anomalies\n",
    "plt.legend()\n",
    "\n",
    "# Show the plot\n",
    "plt.show()\n"
   ]
  },
  {
   "cell_type": "markdown",
   "id": "8f68be21",
   "metadata": {},
   "source": [
    "In this step, we use Principal Component Analysis (PCA) to reduce the high-dimensional data from 11 features to 2 dimensions for better visualization. This allows us to project the data onto a 2D plane, where we can easily distinguish between normal data points and anomalies.\n",
    "\n",
    "PCA helps us simplify the complexity of the dataset, which has 11 dimensions, by transforming the data into two principal components that capture the most significant variance in the dataset. This transformation enables us to visualize the results of our anomaly detection algorithm.\n",
    "\n",
    "We use the predicted probabilities (p_val) and the optimized threshold (epsilon) to classify data points as either normal or anomalous. If a data point's probability is lower than the threshold, it is classified as an anomaly; otherwise, it is considered normal. The anomalies are plotted as red \"x\" markers, while the normal data points are plotted in blue.\n",
    "\n",
    "By visualizing the results on the validation set, we can visually assess the performance of our anomaly detection algorithm. The plot shows how well the model separates normal data points from anomalies in a 2D space, making it easier to analyze whether the algorithm is correctly identifying outliers.\n",
    "\n",
    "This visualization technique is particularly useful for evaluating unsupervised learning models where the ground truth for anomalies is often unknown. It helps us understand how the algorithm performs in practice and identify areas for further improvement in anomaly detection.\n",
    "\n",
    "We can see that the algorithm performs pretty well in identifying anomalies, as evident from the visualization. The detected anomalies (marked in red) are clearly separated from the main cluster of normal data points, indicating that the model is successfully capturing the major anomalies in the dataset. This result suggests that the model effectively balances precision and recall in anomaly detection, achieving a good separation between normal data and outliers."
   ]
  }
 ],
 "metadata": {
  "kernelspec": {
   "display_name": "Python 3",
   "language": "python",
   "name": "python3"
  },
  "language_info": {
   "codemirror_mode": {
    "name": "ipython",
    "version": 3
   },
   "file_extension": ".py",
   "mimetype": "text/x-python",
   "name": "python",
   "nbconvert_exporter": "python",
   "pygments_lexer": "ipython3",
   "version": "3.12.6"
  }
 },
 "nbformat": 4,
 "nbformat_minor": 5
}
